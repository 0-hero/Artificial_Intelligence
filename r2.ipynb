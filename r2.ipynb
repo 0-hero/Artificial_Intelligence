{
 "cells": [
  {
   "cell_type": "code",
   "execution_count": 1,
   "metadata": {},
   "outputs": [],
   "source": [
    "import re \n",
    "import tweepy \n",
    "from tweepy import OAuthHandler \n",
    "from textblob import TextBlob "
   ]
  },
  {
   "cell_type": "code",
   "execution_count": 2,
   "metadata": {},
   "outputs": [],
   "source": [
    "class TwitterClient(object): \n",
    "\t''' \n",
    "\tGeneric Twitter Class for sentiment analysis. \n",
    "\t'''\n",
    "\tdef __init__(self): \n",
    "\t\t''' \n",
    "\t\tClass constructor or initialization method. \n",
    "\t\t'''\n",
    "\t\t# keys and tokens from the Twitter Dev Console \n",
    "\t\tconsumer_key = 'qTIVL4BRkIsP1u4K3CiG7viku'\n",
    "\t\tconsumer_secret = 'lj4i87YmUerOeGZ0RVjWfQfduJ95bE58i2fdZAAHzddkzWfp0i'\n",
    "\t\taccess_token = '725621133567905792-FzzWCsYANNpxgQkkwQpxtQg8pau2aqg'\n",
    "\t\taccess_token_secret = 'jnRTAYRboQOT1V50r7tGojzP9uM0BuYiiY2WxPfgSaHAh'\n",
    "\n",
    "\t\t# attempt authentication \n",
    "\t\ttry: \n",
    "\t\t\t# create OAuthHandler object \n",
    "\t\t\tself.auth = OAuthHandler(consumer_key, consumer_secret) \n",
    "\t\t\t# set access token and secret \n",
    "\t\t\tself.auth.set_access_token(access_token, access_token_secret) \n",
    "\t\t\t# create tweepy API object to fetch tweets \n",
    "\t\t\tself.api = tweepy.API(self.auth) \n",
    "\t\texcept: \n",
    "\t\t\tprint(\"Error: Authentication Failed\") \n",
    "\n",
    "\tdef clean_tweet(self, tweet): \n",
    "\t\t''' \n",
    "\t\tUtility function to clean tweet text by removing links, special characters \n",
    "\t\tusing simple regex statements. \n",
    "\t\t'''\n",
    "\t\treturn ' '.join(re.sub(\"(@[A-Za-z0-9]+)|([^0-9A-Za-z \\t])|(\\w+:\\/\\/\\S+)\", \" \", tweet).split()) \n",
    "\n",
    "\tdef get_tweet_sentiment(self, tweet): \n",
    "\t\t''' \n",
    "\t\tUtility function to classify sentiment of passed tweet \n",
    "\t\tusing textblob's sentiment method \n",
    "\t\t'''\n",
    "\t\t# create TextBlob object of passed tweet text \n",
    "\t\tanalysis = TextBlob(self.clean_tweet(tweet)) \n",
    "\t\t# set sentiment \n",
    "\t\tif analysis.sentiment.polarity > 0: \n",
    "\t\t\treturn 'positive'\n",
    "\t\telif analysis.sentiment.polarity == 0: \n",
    "\t\t\treturn 'neutral'\n",
    "\t\telse: \n",
    "\t\t\treturn 'negative'\n",
    "\n",
    "\tdef get_tweets(self, query, count = 10): \n",
    "\t\t''' \n",
    "\t\tMain function to fetch tweets and parse them. \n",
    "\t\t'''\n",
    "\t\t# empty list to store parsed tweets \n",
    "\t\ttweets = [] \n",
    "\n",
    "\t\ttry: \n",
    "\t\t\t# call twitter api to fetch tweets \n",
    "\t\t\tfetched_tweets = self.api.search(q = query, count = count) \n",
    "\n",
    "\t\t\t# parsing tweets one by one \n",
    "\t\t\tfor tweet in fetched_tweets: \n",
    "\t\t\t\t# empty dictionary to store required params of a tweet \n",
    "\t\t\t\tparsed_tweet = {} \n",
    "\n",
    "\t\t\t\t# saving text of tweet \n",
    "\t\t\t\tparsed_tweet['text'] = tweet.text \n",
    "\t\t\t\t# saving sentiment of tweet \n",
    "\t\t\t\tparsed_tweet['sentiment'] = self.get_tweet_sentiment(tweet.text) \n",
    "\n",
    "\t\t\t\t# appending parsed tweet to tweets list \n",
    "\t\t\t\tif tweet.retweet_count > 0: \n",
    "\t\t\t\t\t# if tweet has retweets, ensure that it is appended only once \n",
    "\t\t\t\t\tif parsed_tweet not in tweets: \n",
    "\t\t\t\t\t\ttweets.append(parsed_tweet) \n",
    "\t\t\t\telse: \n",
    "\t\t\t\t\ttweets.append(parsed_tweet) \n",
    "\n",
    "\t\t\t# return parsed tweets \n",
    "\t\t\treturn tweets \n",
    "\n",
    "\t\texcept tweepy.TweepError as e: \n",
    "\t\t\t# print error (if any) \n",
    "\t\t\tprint(\"Error : \" + str(e)) "
   ]
  },
  {
   "cell_type": "code",
   "execution_count": 10,
   "metadata": {},
   "outputs": [],
   "source": [
    "# creating object of TwitterClient Class \n",
    "api = TwitterClient() \n",
    "# calling function to get tweets \n",
    "tweets = api.get_tweets(query = 'Jio', count = 500) "
   ]
  },
  {
   "cell_type": "code",
   "execution_count": 11,
   "metadata": {},
   "outputs": [
    {
     "name": "stdout",
     "output_type": "stream",
     "text": [
      "Positive tweets percentage: 36.8421052631579 %\n",
      "Negative tweets percentage: 17.894736842105264 %\n",
      "Neutral tweets percentage: 45.26315789473684 % \\ \n"
     ]
    }
   ],
   "source": [
    "# picking positive tweets from tweets \n",
    "ptweets = [tweet for tweet in tweets if tweet['sentiment'] == 'positive'] \n",
    "# percentage of positive tweets \n",
    "print(\"Positive tweets percentage: {} %\".format(100*len(ptweets)/len(tweets))) \n",
    "# picking negative tweets from tweets \n",
    "ntweets = [tweet for tweet in tweets if tweet['sentiment'] == 'negative'] \n",
    "# percentage of negative tweets \n",
    "print(\"Negative tweets percentage: {} %\".format(100*len(ntweets)/len(tweets))) \n",
    "# percentage of neutral tweets \n",
    "print(\"Neutral tweets percentage: {} % \\ \".format(100*((len(tweets) - len(ntweets) - len(ptweets)))/len(tweets))) "
   ]
  },
  {
   "cell_type": "code",
   "execution_count": 6,
   "metadata": {},
   "outputs": [
    {
     "name": "stdout",
     "output_type": "stream",
     "text": [
      "\n",
      "\n",
      "Positive tweets:\n",
      "RT @sashachavkin: Major #ImplantFiles impact in India: Health Ministry says it will bring “all medical devices” under its laws for medicine…\n",
      "RT @airnewsalerts: PM Narendra Modi, released 4 cultural videos today in Delhi marking the #150YrsofMahatma Gandhi.\n",
      "\n",
      "The event was attended…\n",
      "RT @OpIndia_com: PM Modi was gracious in congratulating me, economic slowdown not India specific: Esther Duflo on India, PM Modi and the Ec…\n",
      "RT @FriedrichPieter: @mehdirhasan For a deep dive into #TulsiGabbard’s alliance with far right Narendra Modi and the  anti-Muslim BJP/RSS -…\n",
      "RT @srivatsayb: \"Was she spied upon by IB? Was CJI kept in the dark about her being kept under surveillance? How many other judges are bein…\n",
      "RT @cjwerleman: Muslims in Kashmir may find themselves in a Xinjiang-style dystopia thanks to Chinese technology and Narendra Modi’s Hindu…\n",
      "Actor Aamir Khan: First and foremost, I want to appreciate PM Narendra Modi for thinking about this effort (further… https://t.co/zpJzAHJj7N\n",
      "More Pics: King Khan  @iamsrk with PM Of India  Narendra Modi &amp; Bollywood Stars at #150YearsofMahatmaGandhi celebra… https://t.co/lHC8p0caeU\n",
      "RT @TapirGao: Narendra-Devendra formula is super-hit in terms of development, says PM Modi\n",
      " https://t.co/AHdIFhYopj\n",
      "\n",
      "via NaMo App https://t…\n",
      "\n",
      "\n",
      "Negative tweets:\n",
      "RT @ANI: Delhi: Shahrukh Khan, Aamir Khan, Kangana Ranaut and other members of film fraternity with Prime Minister Narendra Modi after an i…\n",
      "RT @mehdirhasan: Btw, as the son of of Indian Muslims, what’s more annoying than Clinton fans denying their hero’s role in horrific wars is…\n",
      "RT @connectajitcpr: Shahrukh Khan, Aamir Khan, Kangana Ranaut and other members of film fraternity with Prime Minister Narendra Modi after…\n"
     ]
    }
   ],
   "source": [
    "# printing first 5 positive tweets \n",
    "print(\"\\n\\nPositive tweets:\") \n",
    "for tweet in ptweets[:10]: \n",
    "\tprint(tweet['text']) \n",
    "\n",
    "# printing first 5 negative tweets \n",
    "print(\"\\n\\nNegative tweets:\") \n",
    "for tweet in ntweets[:10]: \n",
    "\tprint(tweet['text']) "
   ]
  },
  {
   "cell_type": "code",
   "execution_count": null,
   "metadata": {},
   "outputs": [],
   "source": []
  }
 ],
 "metadata": {
  "kernelspec": {
   "display_name": "Python 3",
   "language": "python",
   "name": "python3"
  },
  "language_info": {
   "codemirror_mode": {
    "name": "ipython",
    "version": 3
   },
   "file_extension": ".py",
   "mimetype": "text/x-python",
   "name": "python",
   "nbconvert_exporter": "python",
   "pygments_lexer": "ipython3",
   "version": "3.7.4"
  }
 },
 "nbformat": 4,
 "nbformat_minor": 2
}
